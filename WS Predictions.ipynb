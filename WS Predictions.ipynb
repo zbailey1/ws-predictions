{
 "cells": [
  {
   "cell_type": "code",
   "execution_count": 45,
   "metadata": {},
   "outputs": [],
   "source": [
    "import numpy as np\n",
    "import matplotlib.pyplot as plt\n",
    "import pandas as pd\n",
    "import seaborn as sns"
   ]
  },
  {
   "cell_type": "code",
   "execution_count": 46,
   "metadata": {},
   "outputs": [
    {
     "data": {
      "text/plain": [
       "Index(['yearID', 'lgID', 'teamID', 'franchID', 'divID', 'Rank', 'G', 'Ghome',\n",
       "       'W', 'L', 'DivWin', 'WCWin', 'LgWin', 'WSWin', 'R', 'AB', 'H', '2B',\n",
       "       '3B', 'HR', 'BB', 'SO', 'SB', 'CS', 'HBP', 'SF', 'RA', 'ER', 'ERA',\n",
       "       'CG', 'SHO', 'SV', 'IPouts', 'HA', 'HRA', 'BBA', 'SOA', 'E', 'DP', 'FP',\n",
       "       'name', 'park', 'attendance', 'BPF', 'PPF', 'teamIDBR',\n",
       "       'teamIDlahman45', 'teamIDretro'],\n",
       "      dtype='object')"
      ]
     },
     "execution_count": 46,
     "metadata": {},
     "output_type": "execute_result"
    }
   ],
   "source": [
    "# Goal: Predict WS (World Series) outcome (Win/Loss) given playoff team and regular season performance.\n",
    "\n",
    "# Data: Teams.csv - db with every major league team from 1871-2021, various stats, and WSWin = Y or N.\n",
    "\n",
    "# Methods: Testing Logistic Regression, SVM Classifier, Trees, Random Forests\n",
    "\n",
    "# Results: \n",
    "\n",
    "teams = pd.read_csv('https://raw.githubusercontent.com/chadwickbureau/baseballdatabank/master/core/Teams.csv')\n",
    "\n",
    "teams.columns"
   ]
  },
  {
   "cell_type": "code",
   "execution_count": 47,
   "metadata": {},
   "outputs": [],
   "source": [
    "\n",
    "# Filtering out seasons before 1970\n",
    "teams = teams[teams['yearID']>=1970]\n",
    "\n",
    "# Filtering out teams that did not make it to the playoffs.\n",
    "teams = teams[(teams['DivWin']==\"Y\") | (teams['WCWin']==\"Y\")]\n",
    "\n",
    "# useless columns to drop\n",
    "dropped_cols = ['Rank','G','Ghome','teamIDBR','teamIDlahman45','teamIDretro','DivWin','WCWin',\n",
    "       'LgWin','name','park']\n",
    "\n",
    "teams = teams.drop(dropped_cols, axis=1)\n",
    "\n",
    "# Replace Y and N with 1 and 0\n",
    "teams.WSWin = teams.WSWin.replace(to_replace=['N','Y'], value=[0,1])"
   ]
  },
  {
   "cell_type": "code",
   "execution_count": 48,
   "metadata": {},
   "outputs": [],
   "source": [
    "# Replace categorical variables with dummy 0/1 variables/vectors\n",
    "#teams = pd.get_dummies(teams)\n",
    "\n",
    "# Remove redundant column with 1/0 for WSWin = N/Y in favor of the opposite column.\n",
    "#teams.drop('WSWin_N',inplace=True,axis=1)"
   ]
  },
  {
   "cell_type": "code",
   "execution_count": 41,
   "metadata": {},
   "outputs": [
    {
     "data": {
      "text/plain": [
       "yearID        0\n",
       "lgID          0\n",
       "teamID        0\n",
       "franchID      0\n",
       "divID         0\n",
       "W             0\n",
       "L             0\n",
       "WSWin         0\n",
       "R             0\n",
       "AB            0\n",
       "H             0\n",
       "2B            0\n",
       "3B            0\n",
       "HR            0\n",
       "BB            0\n",
       "SO            0\n",
       "SB            0\n",
       "CS            0\n",
       "HBP           0\n",
       "SF            0\n",
       "RA            0\n",
       "ER            0\n",
       "ERA           0\n",
       "CG            0\n",
       "SHO           0\n",
       "SV            0\n",
       "IPouts        0\n",
       "HA            0\n",
       "HRA           0\n",
       "BBA           0\n",
       "SOA           0\n",
       "E             0\n",
       "DP            0\n",
       "FP            0\n",
       "attendance    0\n",
       "BPF           0\n",
       "PPF           0\n",
       "dtype: int64"
      ]
     },
     "execution_count": 41,
     "metadata": {},
     "output_type": "execute_result"
    }
   ],
   "source": [
    "teams.isna().sum()"
   ]
  },
  {
   "cell_type": "code",
   "execution_count": 49,
   "metadata": {},
   "outputs": [],
   "source": [
    "teams_noID = teams.drop(columns=[\"lgID\", \"franchID\", \"divID\"], axis=1)\n",
    "teams = pd.get_dummies(teams, columns=[\"lgID\", \"franchID\", \"divID\"])"
   ]
  },
  {
   "cell_type": "code",
   "execution_count": 50,
   "metadata": {},
   "outputs": [
    {
     "data": {
      "text/html": [
       "<div>\n",
       "<style scoped>\n",
       "    .dataframe tbody tr th:only-of-type {\n",
       "        vertical-align: middle;\n",
       "    }\n",
       "\n",
       "    .dataframe tbody tr th {\n",
       "        vertical-align: top;\n",
       "    }\n",
       "\n",
       "    .dataframe thead th {\n",
       "        text-align: right;\n",
       "    }\n",
       "</style>\n",
       "<table border=\"1\" class=\"dataframe\">\n",
       "  <thead>\n",
       "    <tr style=\"text-align: right;\">\n",
       "      <th></th>\n",
       "      <th>yearID</th>\n",
       "      <th>teamID</th>\n",
       "      <th>W</th>\n",
       "      <th>L</th>\n",
       "      <th>WSWin</th>\n",
       "      <th>R</th>\n",
       "      <th>AB</th>\n",
       "      <th>H</th>\n",
       "      <th>2B</th>\n",
       "      <th>3B</th>\n",
       "      <th>...</th>\n",
       "      <th>franchID_SEA</th>\n",
       "      <th>franchID_SFG</th>\n",
       "      <th>franchID_STL</th>\n",
       "      <th>franchID_TBD</th>\n",
       "      <th>franchID_TEX</th>\n",
       "      <th>franchID_TOR</th>\n",
       "      <th>franchID_WSN</th>\n",
       "      <th>divID_C</th>\n",
       "      <th>divID_E</th>\n",
       "      <th>divID_W</th>\n",
       "    </tr>\n",
       "  </thead>\n",
       "  <tbody>\n",
       "    <tr>\n",
       "      <th>1542</th>\n",
       "      <td>1970</td>\n",
       "      <td>BAL</td>\n",
       "      <td>108</td>\n",
       "      <td>54</td>\n",
       "      <td>1</td>\n",
       "      <td>792</td>\n",
       "      <td>5545</td>\n",
       "      <td>1424</td>\n",
       "      <td>213</td>\n",
       "      <td>25</td>\n",
       "      <td>...</td>\n",
       "      <td>0</td>\n",
       "      <td>0</td>\n",
       "      <td>0</td>\n",
       "      <td>0</td>\n",
       "      <td>0</td>\n",
       "      <td>0</td>\n",
       "      <td>0</td>\n",
       "      <td>0</td>\n",
       "      <td>1</td>\n",
       "      <td>0</td>\n",
       "    </tr>\n",
       "    <tr>\n",
       "      <th>1547</th>\n",
       "      <td>1970</td>\n",
       "      <td>CIN</td>\n",
       "      <td>102</td>\n",
       "      <td>60</td>\n",
       "      <td>0</td>\n",
       "      <td>775</td>\n",
       "      <td>5540</td>\n",
       "      <td>1498</td>\n",
       "      <td>253</td>\n",
       "      <td>45</td>\n",
       "      <td>...</td>\n",
       "      <td>0</td>\n",
       "      <td>0</td>\n",
       "      <td>0</td>\n",
       "      <td>0</td>\n",
       "      <td>0</td>\n",
       "      <td>0</td>\n",
       "      <td>0</td>\n",
       "      <td>0</td>\n",
       "      <td>0</td>\n",
       "      <td>1</td>\n",
       "    </tr>\n",
       "    <tr>\n",
       "      <th>1553</th>\n",
       "      <td>1970</td>\n",
       "      <td>MIN</td>\n",
       "      <td>98</td>\n",
       "      <td>64</td>\n",
       "      <td>0</td>\n",
       "      <td>744</td>\n",
       "      <td>5483</td>\n",
       "      <td>1438</td>\n",
       "      <td>230</td>\n",
       "      <td>41</td>\n",
       "      <td>...</td>\n",
       "      <td>0</td>\n",
       "      <td>0</td>\n",
       "      <td>0</td>\n",
       "      <td>0</td>\n",
       "      <td>0</td>\n",
       "      <td>0</td>\n",
       "      <td>0</td>\n",
       "      <td>0</td>\n",
       "      <td>0</td>\n",
       "      <td>1</td>\n",
       "    </tr>\n",
       "    <tr>\n",
       "      <th>1560</th>\n",
       "      <td>1970</td>\n",
       "      <td>PIT</td>\n",
       "      <td>89</td>\n",
       "      <td>73</td>\n",
       "      <td>0</td>\n",
       "      <td>729</td>\n",
       "      <td>5637</td>\n",
       "      <td>1522</td>\n",
       "      <td>235</td>\n",
       "      <td>70</td>\n",
       "      <td>...</td>\n",
       "      <td>0</td>\n",
       "      <td>0</td>\n",
       "      <td>0</td>\n",
       "      <td>0</td>\n",
       "      <td>0</td>\n",
       "      <td>0</td>\n",
       "      <td>0</td>\n",
       "      <td>0</td>\n",
       "      <td>1</td>\n",
       "      <td>0</td>\n",
       "    </tr>\n",
       "    <tr>\n",
       "      <th>1566</th>\n",
       "      <td>1971</td>\n",
       "      <td>BAL</td>\n",
       "      <td>101</td>\n",
       "      <td>57</td>\n",
       "      <td>0</td>\n",
       "      <td>742</td>\n",
       "      <td>5303</td>\n",
       "      <td>1382</td>\n",
       "      <td>207</td>\n",
       "      <td>25</td>\n",
       "      <td>...</td>\n",
       "      <td>0</td>\n",
       "      <td>0</td>\n",
       "      <td>0</td>\n",
       "      <td>0</td>\n",
       "      <td>0</td>\n",
       "      <td>0</td>\n",
       "      <td>0</td>\n",
       "      <td>0</td>\n",
       "      <td>1</td>\n",
       "      <td>0</td>\n",
       "    </tr>\n",
       "  </tbody>\n",
       "</table>\n",
       "<p>5 rows × 69 columns</p>\n",
       "</div>"
      ],
      "text/plain": [
       "      yearID teamID    W   L  WSWin    R    AB     H   2B  3B  ...  \\\n",
       "1542    1970    BAL  108  54      1  792  5545  1424  213  25  ...   \n",
       "1547    1970    CIN  102  60      0  775  5540  1498  253  45  ...   \n",
       "1553    1970    MIN   98  64      0  744  5483  1438  230  41  ...   \n",
       "1560    1970    PIT   89  73      0  729  5637  1522  235  70  ...   \n",
       "1566    1971    BAL  101  57      0  742  5303  1382  207  25  ...   \n",
       "\n",
       "      franchID_SEA  franchID_SFG  franchID_STL  franchID_TBD  franchID_TEX  \\\n",
       "1542             0             0             0             0             0   \n",
       "1547             0             0             0             0             0   \n",
       "1553             0             0             0             0             0   \n",
       "1560             0             0             0             0             0   \n",
       "1566             0             0             0             0             0   \n",
       "\n",
       "      franchID_TOR  franchID_WSN  divID_C  divID_E  divID_W  \n",
       "1542             0             0        0        1        0  \n",
       "1547             0             0        0        0        1  \n",
       "1553             0             0        0        0        1  \n",
       "1560             0             0        0        1        0  \n",
       "1566             0             0        0        1        0  \n",
       "\n",
       "[5 rows x 69 columns]"
      ]
     },
     "execution_count": 50,
     "metadata": {},
     "output_type": "execute_result"
    }
   ],
   "source": [
    "teams.head()"
   ]
  },
  {
   "cell_type": "code",
   "execution_count": 53,
   "metadata": {},
   "outputs": [],
   "source": [
    "# Training model with team/lg/div names\n",
    "\n",
    "teams.shape\n",
    "y = teams.WSWin\n",
    "X = teams.drop(['yearID', 'teamID', 'WSWin'], axis=1)"
   ]
  },
  {
   "cell_type": "code",
   "execution_count": 54,
   "metadata": {},
   "outputs": [],
   "source": [
    "# Training model without team/lg/div names\n",
    "\n",
    "teams_noID.shape\n",
    "y_n = teams_noID.WSWin\n",
    "X_n = teams_noID.drop(['yearID', 'teamID', 'WSWin'], axis=1)"
   ]
  },
  {
   "cell_type": "code",
   "execution_count": 62,
   "metadata": {},
   "outputs": [],
   "source": [
    "from sklearn.model_selection import StratifiedKFold\n",
    "from sklearn.model_selection import train_test_split\n",
    "from sklearn.model_selection import cross_val_score\n",
    "from sklearn.metrics import precision_score\n",
    "from sklearn.linear_model import LogisticRegression\n",
    "from sklearn.ensemble import RandomForestClassifier\n",
    "skf = StratifiedKFold(n_splits=5, random_state=None, shuffle=False)\n",
    "clf = RandomForestClassifier(max_depth=3)\n",
    "#clf.fit(X,y)\n",
    "lreg = LogisticRegression(solver='liblinear', penalty='l1')"
   ]
  },
  {
   "cell_type": "code",
   "execution_count": 63,
   "metadata": {},
   "outputs": [],
   "source": [
    "clf_n = RandomForestClassifier(max_depth=3)\n",
    "#clf_n.fit(X_n,y_n)\n",
    "lreg_n = LogisticRegression(solver='liblinear', penalty='l1')"
   ]
  },
  {
   "cell_type": "code",
   "execution_count": 64,
   "metadata": {},
   "outputs": [
    {
     "name": "stdout",
     "output_type": "stream",
     "text": [
      "[0.21284852 0.12140013 0.19618526 0.26452973 0.28762961]\n",
      "[0.22514985 0.13366392 0.12888417 0.29329071 0.37745292]\n"
     ]
    }
   ],
   "source": [
    "\n",
    "#clf_scores = cross_val_score(clf, X, y, cv=skf, scoring='accuracy')\n",
    "#print(clf_scores)\n",
    "clf_scores = cross_val_score(clf, X, y, cv=skf, scoring='average_precision')\n",
    "print(clf_scores)\n",
    "clf_scores = cross_val_score(lreg, X, y, cv=skf, scoring='average_precision')\n",
    "print(clf_scores)"
   ]
  },
  {
   "cell_type": "code",
   "execution_count": 65,
   "metadata": {},
   "outputs": [
    {
     "name": "stdout",
     "output_type": "stream",
     "text": [
      "[0.21741861 0.12462398 0.17967909 0.2359369  0.27821974]\n",
      "[0.20187634 0.13061482 0.1386097  0.32196003 0.45235482]\n"
     ]
    }
   ],
   "source": [
    "#clf_scores = cross_val_score(clf, X, y, cv=skf, scoring='accuracy')\n",
    "#print(clf_scores)\n",
    "clf_scores = cross_val_score(clf_n, X_n, y_n, cv=skf, scoring='average_precision')\n",
    "print(clf_scores)\n",
    "clf_scores = cross_val_score(lreg_n, X_n, y_n, cv=skf, scoring='average_precision')\n",
    "print(clf_scores)"
   ]
  },
  {
   "cell_type": "code",
   "execution_count": null,
   "metadata": {},
   "outputs": [],
   "source": []
  }
 ],
 "metadata": {
  "kernelspec": {
   "display_name": "Python 3 (ipykernel)",
   "language": "python",
   "name": "python3"
  },
  "language_info": {
   "codemirror_mode": {
    "name": "ipython",
    "version": 3
   },
   "file_extension": ".py",
   "mimetype": "text/x-python",
   "name": "python",
   "nbconvert_exporter": "python",
   "pygments_lexer": "ipython3",
   "version": "3.8.10"
  }
 },
 "nbformat": 4,
 "nbformat_minor": 4
}
